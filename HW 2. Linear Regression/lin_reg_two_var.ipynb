{
    "metadata": {
        "kernelspec": {
            "name": "SQL",
            "display_name": "SQL",
            "language": "sql"
        },
        "language_info": {
            "name": "sql",
            "version": ""
        }
    },
    "nbformat_minor": 2,
    "nbformat": 4,
    "cells": [
        {
            "cell_type": "markdown",
            "source": [
                "Щоб обрати максимальну кількість колонок, які можуть бути використані для регресії, ми можемо вибрати всі доступні числові ознаки, які можуть потенційно впливати на цільову змінну (ціну нерухомості)\r\n",
                "\r\n",
                "У нашому випадку це можуть бути всі колонки окрім ID."
            ],
            "metadata": {
                "azdata_cell_guid": "26b5dde7-231a-4253-a489-dcc99c9e5c81"
            },
            "attachments": {}
        }
    ]
}