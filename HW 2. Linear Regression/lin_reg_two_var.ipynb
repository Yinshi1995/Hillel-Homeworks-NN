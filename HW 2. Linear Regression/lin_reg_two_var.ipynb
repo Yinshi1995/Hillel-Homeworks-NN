{
    "metadata": {
        "kernelspec": {
            "name": "python3",
            "display_name": "Python 3",
            "language": "python"
        },
        "language_info": {
            "name": "python",
            "version": "3.8.10",
            "mimetype": "text/x-python",
            "codemirror_mode": {
                "name": "ipython",
                "version": 3
            },
            "pygments_lexer": "ipython3",
            "nbconvert_exporter": "python",
            "file_extension": ".py"
        }
    },
    "nbformat_minor": 2,
    "nbformat": 4,
    "cells": [
        {
            "cell_type": "code",
            "source": [
                "data = pd.read_csv('kc_house_data.csv')"
            ],
            "metadata": {
                "azdata_cell_guid": "4a32e13a-4d74-41da-8741-3b786d330a5c",
                "language": "python"
            },
            "outputs": [],
            "execution_count": 5
        },
        {
            "cell_type": "markdown",
            "source": [
                "#### Обрати максимальну кількість колонок, які можуть бути використані для регресії."
            ],
            "metadata": {
                "azdata_cell_guid": "d0ce8477-c0f6-4862-9611-663a22e497b9"
            },
            "attachments": {}
        },
        {
            "cell_type": "markdown",
            "source": [
                "Щоб обрати максимальну кількість колонок, які можуть бути використані для регресії, ми можемо вибрати всі доступні числові ознаки, які можуть потенційно впливати на цільову змінну (ціну нерухомості)\r\n",
                "\r\n",
                "У нашому випадку це можуть бути всі колонки окрім ID та дати."
            ],
            "metadata": {
                "azdata_cell_guid": "26b5dde7-231a-4253-a489-dcc99c9e5c81"
            },
            "attachments": {}
        },
        {
            "cell_type": "markdown",
            "source": [
                "#### Привести дані до схожого скейлу (нормалізація чи стандартизація) за допомогою методів sklearn"
            ],
            "metadata": {
                "azdata_cell_guid": "9504cb3e-8578-4fc3-ac9a-7f3dac9b10f5"
            },
            "attachments": {}
        },
        {
            "cell_type": "code",
            "source": [
                "import pandas as pd\r\n",
                "from sklearn.preprocessing import MinMaxScaler\r\n",
                "\r\n",
                "df = pd.DataFrame(data, columns=[\r\n",
                "    'price', \r\n",
                "    'bedrooms', \r\n",
                "    'bathrooms', \r\n",
                "    'sqft_living', \r\n",
                "    'sqft_lot', \r\n",
                "    'floors', \r\n",
                "    'waterfront', \r\n",
                "    'view', \r\n",
                "    'condition', \r\n",
                "    'grade', \r\n",
                "    'sqft_above', \r\n",
                "    'sqft_basement', \r\n",
                "    'yr_built', \r\n",
                "    'yr_renovated', \r\n",
                "    'zipcode', \r\n",
                "    'lat', \r\n",
                "    'long', \r\n",
                "    'sqft_living15', \r\n",
                "    'sqft_lot15'\r\n",
                "    ]\r\n",
                ")\r\n",
                "\r\n",
                "columns_to_normalize = [\r\n",
                "    'price', \r\n",
                "    'bedrooms', \r\n",
                "    'bathrooms', \r\n",
                "    'sqft_living', \r\n",
                "    'sqft_lot', \r\n",
                "    'floors', \r\n",
                "    'view', \r\n",
                "    'condition', \r\n",
                "    'grade', \r\n",
                "    'sqft_above', \r\n",
                "    'sqft_basement', \r\n",
                "    'yr_built', \r\n",
                "    'yr_renovated', \r\n",
                "    'lat', \r\n",
                "    'long', \r\n",
                "    'sqft_living15', \r\n",
                "    'sqft_lot15'\r\n",
                "]\r\n",
                "\r\n",
                "scaler = MinMaxScaler()\r\n",
                "\r\n",
                "df[columns_to_normalize] = scaler.fit_transform(df[columns_to_normalize])"
            ],
            "metadata": {
                "azdata_cell_guid": "50e41597-4729-4df7-85de-3f7e962b3716",
                "language": "python"
            },
            "outputs": [],
            "execution_count": 8
        },
        {
            "cell_type": "markdown",
            "source": [
                "Побудувати модель лінійної регресії з багатьма змінними. Порахувати точність. як метрику використати середнє квадратичне відхилення. За допомогою sklearn зберегти модель."
            ],
            "metadata": {
                "language": "python",
                "azdata_cell_guid": "314b9172-da5c-499f-a92a-cab3aa93767b"
            },
            "attachments": {}
        },
        {
            "cell_type": "code",
            "source": [
                "from sklearn.model_selection import train_test_split\r\n",
                "from sklearn.linear_model import LinearRegression\r\n",
                "from sklearn.metrics import mean_squared_error\r\n",
                "\r\n",
                "X = df.drop(columns=['price']) \r\n",
                "y = df['price']\r\n",
                "\r\n",
                "X_train, X_test, y_train, y_test = train_test_split(X, y, test_size=0.2, random_state=42)\r\n",
                "\r\n",
                "model = LinearRegression()\r\n",
                "\r\n",
                "model.fit(X_train, y_train)\r\n",
                "\r\n",
                "y_pred = model.predict(X_test)\r\n",
                "\r\n",
                "mse = mean_squared_error(y_test, y_pred)\r\n",
                "print('Середнє квадратичне відхилення (MSE):', mse)"
            ],
            "metadata": {
                "azdata_cell_guid": "3673601c-3292-4e37-a98f-ba2dfdb24600",
                "language": "python"
            },
            "outputs": [
                {
                    "name": "stdout",
                    "text": "Середнє квадратичне відхилення (MSE): 0.0007769618254497647\n",
                    "output_type": "stream"
                }
            ],
            "execution_count": 14
        },
        {
            "cell_type": "markdown",
            "source": [
                "Викорисати normal equation для обчислення аналітичного рішення. Порівняти результат із ітеративною моделлю (із поперднього пункту). Відобразити точність обох моделей."
            ],
            "metadata": {
                "language": "python",
                "azdata_cell_guid": "92fc2cd1-6013-4402-a861-7d8f1c036575"
            },
            "attachments": {}
        },
        {
            "cell_type": "code",
            "source": [
                "import numpy as np\r\n",
                "\r\n",
                "X_train_bias = np.c_[np.ones((X_train.shape[0], 1)), X_train]\r\n",
                "X_test_bias = np.c_[np.ones((X_test.shape[0], 1)), X_test]\r\n",
                "\r\n",
                "theta_normal_eq = np.linalg.inv(X_train_bias.T.dot(X_train_bias)).dot(X_train_bias.T).dot(y_train)\r\n",
                "\r\n",
                "y_pred_normal_eq = X_test_bias.dot(theta_normal_eq)\r\n",
                "\r\n",
                "mse_normal_eq = mean_squared_error(y_test, y_pred_normal_eq)\r\n",
                "print('Середнє квадратичне відхилення для звичайного рівняння:', mse_normal_eq)\r\n",
                ""
            ],
            "metadata": {
                "language": "python",
                "azdata_cell_guid": "8f5059b0-9a6c-4192-8ea7-d8be808a2d66"
            },
            "outputs": [
                {
                    "name": "stdout",
                    "text": "Середнє квадратичне відхилення для звичайного рівняння: 0.006892722360650574\n",
                    "output_type": "stream"
                }
            ],
            "execution_count": 12
        }
    ]
}