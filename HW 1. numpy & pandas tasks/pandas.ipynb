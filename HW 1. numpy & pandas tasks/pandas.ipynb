{
    "metadata": {
        "kernelspec": {
            "name": "python3",
            "display_name": "Python 3",
            "language": "python"
        },
        "language_info": {
            "name": "python",
            "version": "3.8.10",
            "mimetype": "text/x-python",
            "codemirror_mode": {
                "name": "ipython",
                "version": 3
            },
            "pygments_lexer": "ipython3",
            "nbconvert_exporter": "python",
            "file_extension": ".py"
        }
    },
    "nbformat_minor": 2,
    "nbformat": 4,
    "cells": [
        {
            "cell_type": "markdown",
            "source": [
                "# HW 1. pandas tasks"
            ],
            "metadata": {
                "language": "python",
                "azdata_cell_guid": "3d19686f-c66d-460f-9e41-e37b274e7336"
            },
            "attachments": {}
        },
        {
            "cell_type": "code",
            "source": [
                "import pandas as pd"
            ],
            "metadata": {
                "azdata_cell_guid": "fbfecf43-3087-4c6e-a7b1-423e86c64738",
                "language": "python"
            },
            "outputs": [],
            "execution_count": null
        },
        {
            "cell_type": "markdown",
            "source": [
                "- Створіть DataFrame Pandas із щонайменше 5 рядками та 3 стовпцями. Стовпці можуть представляти різні атрибути (наприклад, Ім'я, Вік, Місто).\r\n",
                "- Додайте новий стовпець до DataFrame, який представляє числове значення.\r\n",
                "- Відфільтруйте DataFrame, щоб показати лише рядки, де числове значення більше певного порогу (ви можете визначити поріг)."
            ],
            "metadata": {
                "azdata_cell_guid": "28634e6a-d4e2-4fb4-849d-38aba2bef64f"
            },
            "attachments": {}
        },
        {
            "cell_type": "code",
            "source": [
                "df = pd.DataFrame({\r\n",
                "    'Ім\\'я': ['Олександр', 'Ірина', 'Максим', 'Софія', 'Андрій'],\r\n",
                "    'Вік': [30, 25, 35, 28, 32],\r\n",
                "    'Місто': ['Київ', 'Львів', 'Харків', 'Одеса', 'Дніпро']\r\n",
                "})\r\n",
                "\r\n",
                "df"
            ],
            "metadata": {
                "azdata_cell_guid": "fa3e7cd2-0db3-4509-bc69-7725fe3d7742",
                "language": "python"
            },
            "outputs": [
                {
                    "data": {
                        "text/plain": "        Ім'я  Вік   Місто\n0  Олександр   30    Київ\n1      Ірина   25   Львів\n2     Максим   35  Харків\n3      Софія   28   Одеса\n4     Андрій   32  Дніпро",
                        "text/html": "<div>\n<style scoped>\n    .dataframe tbody tr th:only-of-type {\n        vertical-align: middle;\n    }\n\n    .dataframe tbody tr th {\n        vertical-align: top;\n    }\n\n    .dataframe thead th {\n        text-align: right;\n    }\n</style>\n<table border=\"1\" class=\"dataframe\">\n  <thead>\n    <tr style=\"text-align: right;\">\n      <th></th>\n      <th>Ім'я</th>\n      <th>Вік</th>\n      <th>Місто</th>\n    </tr>\n  </thead>\n  <tbody>\n    <tr>\n      <th>0</th>\n      <td>Олександр</td>\n      <td>30</td>\n      <td>Київ</td>\n    </tr>\n    <tr>\n      <th>1</th>\n      <td>Ірина</td>\n      <td>25</td>\n      <td>Львів</td>\n    </tr>\n    <tr>\n      <th>2</th>\n      <td>Максим</td>\n      <td>35</td>\n      <td>Харків</td>\n    </tr>\n    <tr>\n      <th>3</th>\n      <td>Софія</td>\n      <td>28</td>\n      <td>Одеса</td>\n    </tr>\n    <tr>\n      <th>4</th>\n      <td>Андрій</td>\n      <td>32</td>\n      <td>Дніпро</td>\n    </tr>\n  </tbody>\n</table>\n</div>"
                    },
                    "metadata": {},
                    "execution_count": 72,
                    "output_type": "execute_result"
                }
            ],
            "execution_count": 72
        },
        {
            "cell_type": "code",
            "source": [
                "df['Зарплата'] = [5000, 6000, 5500, 7000, 4800]\r\n",
                "df"
            ],
            "metadata": {
                "language": "python",
                "azdata_cell_guid": "bdfab9e8-cab9-492d-9c9e-3b0d21ce7279"
            },
            "outputs": [
                {
                    "data": {
                        "text/plain": "        Ім'я  Вік   Місто  Зарплата\n0  Олександр   30    Київ      5000\n1      Ірина   25   Львів      6000\n2     Максим   35  Харків      5500\n3      Софія   28   Одеса      7000\n4     Андрій   32  Дніпро      4800",
                        "text/html": "<div>\n<style scoped>\n    .dataframe tbody tr th:only-of-type {\n        vertical-align: middle;\n    }\n\n    .dataframe tbody tr th {\n        vertical-align: top;\n    }\n\n    .dataframe thead th {\n        text-align: right;\n    }\n</style>\n<table border=\"1\" class=\"dataframe\">\n  <thead>\n    <tr style=\"text-align: right;\">\n      <th></th>\n      <th>Ім'я</th>\n      <th>Вік</th>\n      <th>Місто</th>\n      <th>Зарплата</th>\n    </tr>\n  </thead>\n  <tbody>\n    <tr>\n      <th>0</th>\n      <td>Олександр</td>\n      <td>30</td>\n      <td>Київ</td>\n      <td>5000</td>\n    </tr>\n    <tr>\n      <th>1</th>\n      <td>Ірина</td>\n      <td>25</td>\n      <td>Львів</td>\n      <td>6000</td>\n    </tr>\n    <tr>\n      <th>2</th>\n      <td>Максим</td>\n      <td>35</td>\n      <td>Харків</td>\n      <td>5500</td>\n    </tr>\n    <tr>\n      <th>3</th>\n      <td>Софія</td>\n      <td>28</td>\n      <td>Одеса</td>\n      <td>7000</td>\n    </tr>\n    <tr>\n      <th>4</th>\n      <td>Андрій</td>\n      <td>32</td>\n      <td>Дніпро</td>\n      <td>4800</td>\n    </tr>\n  </tbody>\n</table>\n</div>"
                    },
                    "metadata": {},
                    "execution_count": 71,
                    "output_type": "execute_result"
                }
            ],
            "execution_count": 71
        },
        {
            "cell_type": "code",
            "source": [
                "df[df['Зарплата'] > 5000]"
            ],
            "metadata": {
                "language": "python",
                "azdata_cell_guid": "71713a78-750f-4bd6-9924-4b34bc7de24d"
            },
            "outputs": [
                {
                    "data": {
                        "text/plain": "     Ім'я  Вік   Місто  Зарплата\n1   Ірина   25   Львів      6000\n2  Максим   35  Харків      5500\n3   Софія   28   Одеса      7000",
                        "text/html": "<div>\n<style scoped>\n    .dataframe tbody tr th:only-of-type {\n        vertical-align: middle;\n    }\n\n    .dataframe tbody tr th {\n        vertical-align: top;\n    }\n\n    .dataframe thead th {\n        text-align: right;\n    }\n</style>\n<table border=\"1\" class=\"dataframe\">\n  <thead>\n    <tr style=\"text-align: right;\">\n      <th></th>\n      <th>Ім'я</th>\n      <th>Вік</th>\n      <th>Місто</th>\n      <th>Зарплата</th>\n    </tr>\n  </thead>\n  <tbody>\n    <tr>\n      <th>1</th>\n      <td>Ірина</td>\n      <td>25</td>\n      <td>Львів</td>\n      <td>6000</td>\n    </tr>\n    <tr>\n      <th>2</th>\n      <td>Максим</td>\n      <td>35</td>\n      <td>Харків</td>\n      <td>5500</td>\n    </tr>\n    <tr>\n      <th>3</th>\n      <td>Софія</td>\n      <td>28</td>\n      <td>Одеса</td>\n      <td>7000</td>\n    </tr>\n  </tbody>\n</table>\n</div>"
                    },
                    "metadata": {},
                    "execution_count": 67,
                    "output_type": "execute_result"
                }
            ],
            "execution_count": 67
        },
        {
            "cell_type": "markdown",
            "source": [
                "- Завантажте набір даних за допомогою Pandas (ви можете використовувати будь-який набір даних у форматі CSV або wine.csv).\r\n",
                "- Відобразіть перші 5 рядків набору даних."
            ],
            "metadata": {
                "language": "python",
                "azdata_cell_guid": "4c66cd80-156b-4775-aad5-5a96901d92d3"
            },
            "attachments": {}
        },
        {
            "cell_type": "code",
            "source": [
                "import pandas as pd\r\n",
                "df = pd.read_csv('wine.csv')\r\n",
                "\r\n",
                "df.head()"
            ],
            "metadata": {
                "azdata_cell_guid": "94991242-4173-4312-86eb-96d507bb060d",
                "language": "python"
            },
            "outputs": [
                {
                    "data": {
                        "text/plain": "   1  14.23  1.71  2.43  15.6  127   2.8  3.06   .28  2.29  5.64  1.04  3.92  \\\n0  1  13.20  1.78  2.14  11.2  100  2.65  2.76  0.26  1.28  4.38  1.05  3.40   \n1  1  13.16  2.36  2.67  18.6  101  2.80  3.24  0.30  2.81  5.68  1.03  3.17   \n2  1  14.37  1.95  2.50  16.8  113  3.85  3.49  0.24  2.18  7.80  0.86  3.45   \n3  1  13.24  2.59  2.87  21.0  118  2.80  2.69  0.39  1.82  4.32  1.04  2.93   \n4  1  14.20  1.76  2.45  15.2  112  3.27  3.39  0.34  1.97  6.75  1.05  2.85   \n\n   1065  \n0  1050  \n1  1185  \n2  1480  \n3   735  \n4  1450  ",
                        "text/html": "<div>\n<style scoped>\n    .dataframe tbody tr th:only-of-type {\n        vertical-align: middle;\n    }\n\n    .dataframe tbody tr th {\n        vertical-align: top;\n    }\n\n    .dataframe thead th {\n        text-align: right;\n    }\n</style>\n<table border=\"1\" class=\"dataframe\">\n  <thead>\n    <tr style=\"text-align: right;\">\n      <th></th>\n      <th>1</th>\n      <th>14.23</th>\n      <th>1.71</th>\n      <th>2.43</th>\n      <th>15.6</th>\n      <th>127</th>\n      <th>2.8</th>\n      <th>3.06</th>\n      <th>.28</th>\n      <th>2.29</th>\n      <th>5.64</th>\n      <th>1.04</th>\n      <th>3.92</th>\n      <th>1065</th>\n    </tr>\n  </thead>\n  <tbody>\n    <tr>\n      <th>0</th>\n      <td>1</td>\n      <td>13.20</td>\n      <td>1.78</td>\n      <td>2.14</td>\n      <td>11.2</td>\n      <td>100</td>\n      <td>2.65</td>\n      <td>2.76</td>\n      <td>0.26</td>\n      <td>1.28</td>\n      <td>4.38</td>\n      <td>1.05</td>\n      <td>3.40</td>\n      <td>1050</td>\n    </tr>\n    <tr>\n      <th>1</th>\n      <td>1</td>\n      <td>13.16</td>\n      <td>2.36</td>\n      <td>2.67</td>\n      <td>18.6</td>\n      <td>101</td>\n      <td>2.80</td>\n      <td>3.24</td>\n      <td>0.30</td>\n      <td>2.81</td>\n      <td>5.68</td>\n      <td>1.03</td>\n      <td>3.17</td>\n      <td>1185</td>\n    </tr>\n    <tr>\n      <th>2</th>\n      <td>1</td>\n      <td>14.37</td>\n      <td>1.95</td>\n      <td>2.50</td>\n      <td>16.8</td>\n      <td>113</td>\n      <td>3.85</td>\n      <td>3.49</td>\n      <td>0.24</td>\n      <td>2.18</td>\n      <td>7.80</td>\n      <td>0.86</td>\n      <td>3.45</td>\n      <td>1480</td>\n    </tr>\n    <tr>\n      <th>3</th>\n      <td>1</td>\n      <td>13.24</td>\n      <td>2.59</td>\n      <td>2.87</td>\n      <td>21.0</td>\n      <td>118</td>\n      <td>2.80</td>\n      <td>2.69</td>\n      <td>0.39</td>\n      <td>1.82</td>\n      <td>4.32</td>\n      <td>1.04</td>\n      <td>2.93</td>\n      <td>735</td>\n    </tr>\n    <tr>\n      <th>4</th>\n      <td>1</td>\n      <td>14.20</td>\n      <td>1.76</td>\n      <td>2.45</td>\n      <td>15.2</td>\n      <td>112</td>\n      <td>3.27</td>\n      <td>3.39</td>\n      <td>0.34</td>\n      <td>1.97</td>\n      <td>6.75</td>\n      <td>1.05</td>\n      <td>2.85</td>\n      <td>1450</td>\n    </tr>\n  </tbody>\n</table>\n</div>"
                    },
                    "metadata": {},
                    "execution_count": 28,
                    "output_type": "execute_result"
                }
            ],
            "execution_count": 28
        },
        {
            "cell_type": "markdown",
            "source": [
                "- Розрахуйте та виведіть загальну статистику для числових стовпців у наборі даних.\r\n",
                "- Знайдіть та виведіть унікальні значення у категорійному стовпці."
            ],
            "metadata": {
                "language": "python",
                "azdata_cell_guid": "1c51df43-4210-4a66-80e8-0b3081522b36"
            },
            "attachments": {}
        },
        {
            "cell_type": "code",
            "source": [
                "df.describe()"
            ],
            "metadata": {
                "language": "python",
                "azdata_cell_guid": "2fc7562c-595f-4820-8fb9-6d1850ed82ea"
            },
            "outputs": [
                {
                    "data": {
                        "text/plain": "                1       14.23        1.71        2.43        15.6         127  \\\ncount  177.000000  177.000000  177.000000  177.000000  177.000000  177.000000   \nmean     1.943503   12.993672    2.339887    2.366158   19.516949   99.587571   \nstd      0.773991    0.808808    1.119314    0.275080    3.336071   14.174018   \nmin      1.000000   11.030000    0.740000    1.360000   10.600000   70.000000   \n25%      1.000000   12.360000    1.600000    2.210000   17.200000   88.000000   \n50%      2.000000   13.050000    1.870000    2.360000   19.500000   98.000000   \n75%      3.000000   13.670000    3.100000    2.560000   21.500000  107.000000   \nmax      3.000000   14.830000    5.800000    3.230000   30.000000  162.000000   \n\n              2.8        3.06         .28        2.29        5.64        1.04  \\\ncount  177.000000  177.000000  177.000000  177.000000  177.000000  177.000000   \nmean     2.292260    2.023446    0.362316    1.586949    5.054802    0.956983   \nstd      0.626465    0.998658    0.124653    0.571545    2.324446    0.229135   \nmin      0.980000    0.340000    0.130000    0.410000    1.280000    0.480000   \n25%      1.740000    1.200000    0.270000    1.250000    3.210000    0.780000   \n50%      2.350000    2.130000    0.340000    1.550000    4.680000    0.960000   \n75%      2.800000    2.860000    0.440000    1.950000    6.200000    1.120000   \nmax      3.880000    5.080000    0.660000    3.580000   13.000000    1.710000   \n\n             3.92         1065  \ncount  177.000000   177.000000  \nmean     2.604294   745.096045  \nstd      0.705103   314.884046  \nmin      1.270000   278.000000  \n25%      1.930000   500.000000  \n50%      2.780000   672.000000  \n75%      3.170000   985.000000  \nmax      4.000000  1680.000000  ",
                        "text/html": "<div>\n<style scoped>\n    .dataframe tbody tr th:only-of-type {\n        vertical-align: middle;\n    }\n\n    .dataframe tbody tr th {\n        vertical-align: top;\n    }\n\n    .dataframe thead th {\n        text-align: right;\n    }\n</style>\n<table border=\"1\" class=\"dataframe\">\n  <thead>\n    <tr style=\"text-align: right;\">\n      <th></th>\n      <th>1</th>\n      <th>14.23</th>\n      <th>1.71</th>\n      <th>2.43</th>\n      <th>15.6</th>\n      <th>127</th>\n      <th>2.8</th>\n      <th>3.06</th>\n      <th>.28</th>\n      <th>2.29</th>\n      <th>5.64</th>\n      <th>1.04</th>\n      <th>3.92</th>\n      <th>1065</th>\n    </tr>\n  </thead>\n  <tbody>\n    <tr>\n      <th>count</th>\n      <td>177.000000</td>\n      <td>177.000000</td>\n      <td>177.000000</td>\n      <td>177.000000</td>\n      <td>177.000000</td>\n      <td>177.000000</td>\n      <td>177.000000</td>\n      <td>177.000000</td>\n      <td>177.000000</td>\n      <td>177.000000</td>\n      <td>177.000000</td>\n      <td>177.000000</td>\n      <td>177.000000</td>\n      <td>177.000000</td>\n    </tr>\n    <tr>\n      <th>mean</th>\n      <td>1.943503</td>\n      <td>12.993672</td>\n      <td>2.339887</td>\n      <td>2.366158</td>\n      <td>19.516949</td>\n      <td>99.587571</td>\n      <td>2.292260</td>\n      <td>2.023446</td>\n      <td>0.362316</td>\n      <td>1.586949</td>\n      <td>5.054802</td>\n      <td>0.956983</td>\n      <td>2.604294</td>\n      <td>745.096045</td>\n    </tr>\n    <tr>\n      <th>std</th>\n      <td>0.773991</td>\n      <td>0.808808</td>\n      <td>1.119314</td>\n      <td>0.275080</td>\n      <td>3.336071</td>\n      <td>14.174018</td>\n      <td>0.626465</td>\n      <td>0.998658</td>\n      <td>0.124653</td>\n      <td>0.571545</td>\n      <td>2.324446</td>\n      <td>0.229135</td>\n      <td>0.705103</td>\n      <td>314.884046</td>\n    </tr>\n    <tr>\n      <th>min</th>\n      <td>1.000000</td>\n      <td>11.030000</td>\n      <td>0.740000</td>\n      <td>1.360000</td>\n      <td>10.600000</td>\n      <td>70.000000</td>\n      <td>0.980000</td>\n      <td>0.340000</td>\n      <td>0.130000</td>\n      <td>0.410000</td>\n      <td>1.280000</td>\n      <td>0.480000</td>\n      <td>1.270000</td>\n      <td>278.000000</td>\n    </tr>\n    <tr>\n      <th>25%</th>\n      <td>1.000000</td>\n      <td>12.360000</td>\n      <td>1.600000</td>\n      <td>2.210000</td>\n      <td>17.200000</td>\n      <td>88.000000</td>\n      <td>1.740000</td>\n      <td>1.200000</td>\n      <td>0.270000</td>\n      <td>1.250000</td>\n      <td>3.210000</td>\n      <td>0.780000</td>\n      <td>1.930000</td>\n      <td>500.000000</td>\n    </tr>\n    <tr>\n      <th>50%</th>\n      <td>2.000000</td>\n      <td>13.050000</td>\n      <td>1.870000</td>\n      <td>2.360000</td>\n      <td>19.500000</td>\n      <td>98.000000</td>\n      <td>2.350000</td>\n      <td>2.130000</td>\n      <td>0.340000</td>\n      <td>1.550000</td>\n      <td>4.680000</td>\n      <td>0.960000</td>\n      <td>2.780000</td>\n      <td>672.000000</td>\n    </tr>\n    <tr>\n      <th>75%</th>\n      <td>3.000000</td>\n      <td>13.670000</td>\n      <td>3.100000</td>\n      <td>2.560000</td>\n      <td>21.500000</td>\n      <td>107.000000</td>\n      <td>2.800000</td>\n      <td>2.860000</td>\n      <td>0.440000</td>\n      <td>1.950000</td>\n      <td>6.200000</td>\n      <td>1.120000</td>\n      <td>3.170000</td>\n      <td>985.000000</td>\n    </tr>\n    <tr>\n      <th>max</th>\n      <td>3.000000</td>\n      <td>14.830000</td>\n      <td>5.800000</td>\n      <td>3.230000</td>\n      <td>30.000000</td>\n      <td>162.000000</td>\n      <td>3.880000</td>\n      <td>5.080000</td>\n      <td>0.660000</td>\n      <td>3.580000</td>\n      <td>13.000000</td>\n      <td>1.710000</td>\n      <td>4.000000</td>\n      <td>1680.000000</td>\n    </tr>\n  </tbody>\n</table>\n</div>"
                    },
                    "metadata": {},
                    "execution_count": 35,
                    "output_type": "execute_result"
                }
            ],
            "execution_count": 35
        },
        {
            "cell_type": "code",
            "source": [
                "df.iloc[:, 0].unique()"
            ],
            "metadata": {
                "azdata_cell_guid": "82341a21-b235-495d-b747-9ede6bdeefe5",
                "language": "python"
            },
            "outputs": [
                {
                    "data": {
                        "text/plain": "array([1, 2, 3], dtype=int64)"
                    },
                    "metadata": {},
                    "execution_count": 63,
                    "output_type": "execute_result"
                }
            ],
            "execution_count": 63
        }
    ]
}