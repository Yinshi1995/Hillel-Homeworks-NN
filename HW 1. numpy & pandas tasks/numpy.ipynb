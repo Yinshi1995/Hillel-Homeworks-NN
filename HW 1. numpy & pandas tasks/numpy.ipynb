{
    "metadata": {
        "kernelspec": {
            "name": "python3",
            "display_name": "Python 3",
            "language": "python"
        },
        "language_info": {
            "name": "python",
            "version": "3.8.10",
            "mimetype": "text/x-python",
            "codemirror_mode": {
                "name": "ipython",
                "version": 3
            },
            "pygments_lexer": "ipython3",
            "nbconvert_exporter": "python",
            "file_extension": ".py"
        }
    },
    "nbformat_minor": 2,
    "nbformat": 4,
    "cells": [
        {
            "cell_type": "markdown",
            "source": [
                "# HW 1. numpy tasks"
            ],
            "metadata": {
                "azdata_cell_guid": "ac7d23a1-698c-4c36-b7fa-ea3587a5a2ff"
            },
            "attachments": {}
        },
        {
            "cell_type": "code",
            "source": [
                "import numpy as np"
            ],
            "metadata": {
                "language": "python",
                "azdata_cell_guid": "f255e8a9-6a8d-49ad-ae74-19a661971b0e"
            },
            "outputs": [],
            "execution_count": 7
        },
        {
            "cell_type": "markdown",
            "source": [
                "## Створіть масив NumPy із 10 випадкових цілих чисел. \r\n",
                "\r\n",
                "Виконайте наступні операції:\r\n",
                "\r\n",
                "- Знайдіть середнє, медіану та стандартне відхилення масиву.\r\n",
                "- Замініть всі парні числа у масиві на 0."
            ],
            "metadata": {
                "language": "python",
                "azdata_cell_guid": "1aeec535-6ac5-43ba-a0d8-9db46b929191"
            },
            "attachments": {}
        },
        {
            "cell_type": "code",
            "source": [
                "arr = np.random.randint(1, 100, size=10)\r\n",
                "arr"
            ],
            "metadata": {
                "language": "python",
                "azdata_cell_guid": "174cdcee-de25-4d14-8731-c5ad7fdce1eb"
            },
            "outputs": [
                {
                    "data": {
                        "text/plain": "array([77, 77, 81, 97, 46, 15, 35, 13, 27, 56])"
                    },
                    "metadata": {},
                    "execution_count": 8,
                    "output_type": "execute_result"
                }
            ],
            "execution_count": 8
        },
        {
            "cell_type": "code",
            "source": [
                "{\r\n",
                "    'mean': np.mean(arr),\r\n",
                "    'median': np.median(arr),\r\n",
                "    'std': np.std(arr)\r\n",
                "}"
            ],
            "metadata": {
                "language": "python",
                "azdata_cell_guid": "7b566f73-f8cf-4a22-b749-6acd507afbec"
            },
            "outputs": [
                {
                    "data": {
                        "text/plain": "{'mean': 52.4, 'median': 51.0, 'std': 28.23189685444462}"
                    },
                    "metadata": {},
                    "execution_count": 9,
                    "output_type": "execute_result"
                }
            ],
            "execution_count": 9
        },
        {
            "cell_type": "code",
            "source": [
                "arr[arr % 2 == 0] = 0\r\n",
                "arr"
            ],
            "metadata": {
                "language": "python",
                "azdata_cell_guid": "2d1ff01c-d40a-4fbc-8f3d-474fec0a96df"
            },
            "outputs": [
                {
                    "data": {
                        "text/plain": "array([77, 77, 81, 97,  0, 15, 35, 13, 27,  0])"
                    },
                    "metadata": {},
                    "execution_count": 10,
                    "output_type": "execute_result"
                }
            ],
            "execution_count": 10
        },
        {
            "cell_type": "markdown",
            "source": [
                "## Індексація та зрізка в NumPy:\r\n",
                "\r\n",
                "- Створіть 2D масив NumPy (матрицю) розміром (3, 3) із випадковими цілими числами.\r\n",
                "- Виведіть перший рядок матриці.\r\n",
                "- Виведіть останній стовпець матриці.\r\n",
                "- Виведіть діагональні елементи матриці."
            ],
            "metadata": {
                "azdata_cell_guid": "aca65f93-4418-4804-8860-329488a93dbd"
            },
            "attachments": {}
        },
        {
            "cell_type": "code",
            "source": [
                "matrix = np.random.randint(1, 100, size=(3, 3))\r\n",
                "matrix"
            ],
            "metadata": {
                "language": "python",
                "azdata_cell_guid": "5501bd0c-a3c7-4f28-809a-5bca3a4d1f9b",
                "tags": [
                    "hide_input"
                ]
            },
            "outputs": [
                {
                    "data": {
                        "text/plain": "array([[94, 59, 51],\n       [30, 37, 47],\n       [51, 98, 94]])"
                    },
                    "metadata": {},
                    "execution_count": 11,
                    "output_type": "execute_result"
                }
            ],
            "execution_count": 11
        },
        {
            "cell_type": "code",
            "source": [
                "matrix[0]"
            ],
            "metadata": {
                "language": "python",
                "azdata_cell_guid": "3de899e6-1d5d-4ec1-bc58-9d7c9ef95f18"
            },
            "outputs": [
                {
                    "data": {
                        "text/plain": "array([94, 59, 51])"
                    },
                    "metadata": {},
                    "execution_count": 12,
                    "output_type": "execute_result"
                }
            ],
            "execution_count": 12
        },
        {
            "cell_type": "code",
            "source": [
                "matrix[:, -1]"
            ],
            "metadata": {
                "language": "python",
                "azdata_cell_guid": "96e9eeb5-cbd4-4ea3-a6af-40aac7e2c0ee"
            },
            "outputs": [
                {
                    "data": {
                        "text/plain": "array([51, 47, 94])"
                    },
                    "metadata": {},
                    "execution_count": 13,
                    "output_type": "execute_result"
                }
            ],
            "execution_count": 13
        },
        {
            "cell_type": "code",
            "source": [
                "np.diagonal(matrix)"
            ],
            "metadata": {
                "language": "python",
                "azdata_cell_guid": "eabc1f88-5de5-4339-9ff4-763a56f3cfa6"
            },
            "outputs": [
                {
                    "data": {
                        "text/plain": "array([94, 37, 94])"
                    },
                    "metadata": {},
                    "execution_count": 15,
                    "output_type": "execute_result"
                }
            ],
            "execution_count": 15
        },
        {
            "cell_type": "markdown",
            "source": [
                "### Створіть 2D масив NumPy розміром (3, 3) та 1D масив розміром (3,). Використайте broadcasting для додавання 1D масиву до кожного рядка 2D масиву."
            ],
            "metadata": {
                "azdata_cell_guid": "05feaf3e-504b-41be-9641-1337ee2dedfa"
            },
            "attachments": {}
        },
        {
            "cell_type": "code",
            "source": [
                "matrix_2d = np.random.randint(1, 10, size=(3, 3))\r\n",
                "matrix_2d"
            ],
            "metadata": {
                "language": "python",
                "azdata_cell_guid": "cf3affce-a9c6-4d85-a817-0bf76511aae5"
            },
            "outputs": [
                {
                    "data": {
                        "text/plain": "array([[1, 2, 3],\n       [6, 5, 9],\n       [1, 6, 2]])"
                    },
                    "metadata": {},
                    "execution_count": 16,
                    "output_type": "execute_result"
                }
            ],
            "execution_count": 16
        },
        {
            "cell_type": "code",
            "source": [
                "array_1d = np.array([1, 2, 3])\r\n",
                "array_1d"
            ],
            "metadata": {
                "language": "python",
                "azdata_cell_guid": "6a1188a3-2343-4062-8bc8-1663cfba9661"
            },
            "outputs": [
                {
                    "data": {
                        "text/plain": "array([1, 2, 3])"
                    },
                    "metadata": {},
                    "execution_count": 17,
                    "output_type": "execute_result"
                }
            ],
            "execution_count": 17
        },
        {
            "cell_type": "code",
            "source": [
                "matrix_2d + array_1d"
            ],
            "metadata": {
                "language": "python",
                "azdata_cell_guid": "12803073-2909-4409-ac09-ce4b3e2b996e"
            },
            "outputs": [
                {
                    "data": {
                        "text/plain": "array([[ 2,  4,  6],\n       [ 7,  7, 12],\n       [ 2,  8,  5]])"
                    },
                    "metadata": {},
                    "execution_count": 19,
                    "output_type": "execute_result"
                }
            ],
            "execution_count": 19
        },
        {
            "cell_type": "markdown",
            "source": [
                "## Створіть 2D масив NumPy розміром (5, 5) з випадковими цілими числами.\r\n",
                "\r\n",
                "- Знайдіть та виведіть всі унікальні елементи у масиві.\r\n",
                "- виведіть всі рядки, сума елементів у яких більша за певне значення. (значення оберіть самі)"
            ],
            "metadata": {
                "azdata_cell_guid": "cf867f06-00e3-44a2-bcfa-7545d9cb21ed"
            },
            "attachments": {}
        },
        {
            "cell_type": "code",
            "source": [
                "matrix = np.random.randint(1, 10, size=(5, 5))\r\n",
                "matrix"
            ],
            "metadata": {
                "language": "python",
                "azdata_cell_guid": "f1ec2b02-8bdb-4ef6-8004-a1965f10c2f5"
            },
            "outputs": [
                {
                    "output_type": "execute_result",
                    "execution_count": 15,
                    "data": {
                        "text/plain": "array([[4, 6, 5, 9, 2],\n       [1, 5, 2, 7, 2],\n       [4, 6, 7, 3, 4],\n       [9, 6, 8, 4, 1],\n       [1, 4, 2, 1, 2]])"
                    },
                    "metadata": {}
                }
            ],
            "execution_count": 15
        },
        {
            "cell_type": "code",
            "source": [
                "unique_elements = np.unique(matrix)\r\n",
                "unique_elements"
            ],
            "metadata": {
                "language": "python",
                "azdata_cell_guid": "e78452b6-4f90-45bf-9472-3518f7b14def"
            },
            "outputs": [
                {
                    "output_type": "execute_result",
                    "execution_count": 16,
                    "data": {
                        "text/plain": "array([1, 2, 3, 4, 5, 6, 7, 8, 9])"
                    },
                    "metadata": {}
                }
            ],
            "execution_count": 16
        },
        {
            "cell_type": "code",
            "source": [
                " matrix[np.sum(matrix, axis=1) > 15]"
            ],
            "metadata": {
                "language": "python",
                "azdata_cell_guid": "78589c00-d738-4f67-8c9f-187f3b771fca"
            },
            "outputs": [
                {
                    "output_type": "execute_result",
                    "execution_count": 18,
                    "data": {
                        "text/plain": "array([[4, 6, 5, 9, 2],\n       [1, 5, 2, 7, 2],\n       [4, 6, 7, 3, 4],\n       [9, 6, 8, 4, 1]])"
                    },
                    "metadata": {}
                }
            ],
            "execution_count": 18
        },
        {
            "cell_type": "markdown",
            "source": [
                "### Створіть 1D масив NumPy, що містить цілі числа від 1 до 20 (включно).\r\n",
                "\r\n",
                "- Використайте оператор shape, щоб перетворити 1D масив у 2D масив розміром (4, 5). Переконайтеся, що отриманий перетворений масив має бажаний розмір."
            ],
            "metadata": {
                "azdata_cell_guid": "fea6548a-f704-4111-9f54-d4316055346d"
            },
            "attachments": {}
        },
        {
            "cell_type": "code",
            "source": [
                "array_1d = np.arange(1, 21)\r\n",
                "array_1d"
            ],
            "metadata": {
                "language": "python",
                "azdata_cell_guid": "41899c55-0d62-4ad6-ac48-c0a9a0ee9d3e"
            },
            "outputs": [
                {
                    "output_type": "execute_result",
                    "execution_count": 34,
                    "data": {
                        "text/plain": "array([ 1,  2,  3,  4,  5,  6,  7,  8,  9, 10, 11, 12, 13, 14, 15, 16, 17,\n       18, 19, 20])"
                    },
                    "metadata": {}
                }
            ],
            "execution_count": 34
        },
        {
            "cell_type": "code",
            "source": [
                "array_2d = array_1d.reshape(4, 5)\r\n",
                "array_2d"
            ],
            "metadata": {
                "language": "python",
                "azdata_cell_guid": "53cbc0a0-e047-488a-b72f-5cf75d5475e2"
            },
            "outputs": [
                {
                    "output_type": "execute_result",
                    "execution_count": 35,
                    "data": {
                        "text/plain": "array([[ 1,  2,  3,  4,  5],\n       [ 6,  7,  8,  9, 10],\n       [11, 12, 13, 14, 15],\n       [16, 17, 18, 19, 20]])"
                    },
                    "metadata": {}
                }
            ],
            "execution_count": 35
        },
        {
            "cell_type": "code",
            "source": [
                "array_2d.shape"
            ],
            "metadata": {
                "language": "python",
                "azdata_cell_guid": "59401fd8-b889-4559-aa5c-7d0742d2cf15"
            },
            "outputs": [
                {
                    "output_type": "execute_result",
                    "execution_count": 36,
                    "data": {
                        "text/plain": "(4, 5)"
                    },
                    "metadata": {}
                }
            ],
            "execution_count": 36
        }
    ]
}